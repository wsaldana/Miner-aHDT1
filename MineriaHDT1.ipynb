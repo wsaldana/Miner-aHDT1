{
 "cells": [
  {
   "cell_type": "markdown",
   "id": "fb99b436",
   "metadata": {},
   "source": [
    "Universidad del Valle de Guatemala <br>\n",
    "28/01/2022 <br>\n",
    "Minería de Datos # 20 <br>\n",
    "\n",
    "# Hoja de Trabajo 1\n",
    "## Análisis Exploratorio\n",
    "\n",
    "**Integrantes:**<br>\n",
    "Walter Saldaña                                  19897 <br>\n",
    "José Gutierrez                                  19111 <br>\n",
    "Javier Cotto                                    19324 <br>"
   ]
  },
  {
   "cell_type": "code",
   "execution_count": 2,
   "id": "252fe64d",
   "metadata": {},
   "outputs": [],
   "source": [
    "import pandas as pd"
   ]
  },
  {
   "cell_type": "markdown",
   "id": "59314250",
   "metadata": {},
   "source": [
    "## 1. Haga una exploración rápida de sus datos, para eso haga un resumen de su conjunto de datos."
   ]
  },
  {
   "cell_type": "code",
   "execution_count": 6,
   "id": "30efa05c",
   "metadata": {},
   "outputs": [],
   "source": [
    "df = pd.read_csv('movies.csv', encoding='unicode_escape')"
   ]
  },
  {
   "cell_type": "code",
   "execution_count": 7,
   "id": "4ea451c9",
   "metadata": {},
   "outputs": [
    {
     "data": {
      "text/html": [
       "<div>\n",
       "<style scoped>\n",
       "    .dataframe tbody tr th:only-of-type {\n",
       "        vertical-align: middle;\n",
       "    }\n",
       "\n",
       "    .dataframe tbody tr th {\n",
       "        vertical-align: top;\n",
       "    }\n",
       "\n",
       "    .dataframe thead th {\n",
       "        text-align: right;\n",
       "    }\n",
       "</style>\n",
       "<table border=\"1\" class=\"dataframe\">\n",
       "  <thead>\n",
       "    <tr style=\"text-align: right;\">\n",
       "      <th></th>\n",
       "      <th>id</th>\n",
       "      <th>budget</th>\n",
       "      <th>genres</th>\n",
       "      <th>homePage</th>\n",
       "      <th>productionCompany</th>\n",
       "      <th>productionCompanyCountry</th>\n",
       "      <th>productionCountry</th>\n",
       "      <th>revenue</th>\n",
       "      <th>runtime</th>\n",
       "      <th>video</th>\n",
       "      <th>...</th>\n",
       "      <th>popularity</th>\n",
       "      <th>releaseDate</th>\n",
       "      <th>voteAvg</th>\n",
       "      <th>voteCount</th>\n",
       "      <th>genresAmount</th>\n",
       "      <th>productionCoAmount</th>\n",
       "      <th>productionCountriesAmount</th>\n",
       "      <th>actorsAmount</th>\n",
       "      <th>castWomenAmount</th>\n",
       "      <th>castMenAmount</th>\n",
       "    </tr>\n",
       "  </thead>\n",
       "  <tbody>\n",
       "    <tr>\n",
       "      <th>0</th>\n",
       "      <td>5</td>\n",
       "      <td>4000000</td>\n",
       "      <td>Crime|Comedy</td>\n",
       "      <td>https://www.miramax.com/movie/four-rooms/</td>\n",
       "      <td>Miramax|A Band Apart</td>\n",
       "      <td>US|US</td>\n",
       "      <td>United States of America</td>\n",
       "      <td>4257354.0</td>\n",
       "      <td>98</td>\n",
       "      <td>False</td>\n",
       "      <td>...</td>\n",
       "      <td>20.880</td>\n",
       "      <td>1995-12-09</td>\n",
       "      <td>5.7</td>\n",
       "      <td>2077</td>\n",
       "      <td>2</td>\n",
       "      <td>2</td>\n",
       "      <td>1</td>\n",
       "      <td>25</td>\n",
       "      <td>15</td>\n",
       "      <td>9</td>\n",
       "    </tr>\n",
       "    <tr>\n",
       "      <th>1</th>\n",
       "      <td>6</td>\n",
       "      <td>21000000</td>\n",
       "      <td>Action|Thriller|Crime</td>\n",
       "      <td>NaN</td>\n",
       "      <td>Universal Pictures|Largo Entertainment|JVC</td>\n",
       "      <td>US|US|JP</td>\n",
       "      <td>Japan|United States of America</td>\n",
       "      <td>12136938.0</td>\n",
       "      <td>110</td>\n",
       "      <td>False</td>\n",
       "      <td>...</td>\n",
       "      <td>9.596</td>\n",
       "      <td>1993-10-15</td>\n",
       "      <td>6.5</td>\n",
       "      <td>223</td>\n",
       "      <td>3</td>\n",
       "      <td>3</td>\n",
       "      <td>2</td>\n",
       "      <td>15</td>\n",
       "      <td>3</td>\n",
       "      <td>9</td>\n",
       "    </tr>\n",
       "    <tr>\n",
       "      <th>2</th>\n",
       "      <td>11</td>\n",
       "      <td>11000000</td>\n",
       "      <td>Adventure|Action|Science Fiction</td>\n",
       "      <td>http://www.starwars.com/films/star-wars-episod...</td>\n",
       "      <td>Lucasfilm|20th Century Fox</td>\n",
       "      <td>US|US</td>\n",
       "      <td>United States of America</td>\n",
       "      <td>775398007.0</td>\n",
       "      <td>121</td>\n",
       "      <td>NaN</td>\n",
       "      <td>...</td>\n",
       "      <td>100.003</td>\n",
       "      <td>1977-05-25</td>\n",
       "      <td>8.2</td>\n",
       "      <td>16598</td>\n",
       "      <td>3</td>\n",
       "      <td>2</td>\n",
       "      <td>1</td>\n",
       "      <td>105</td>\n",
       "      <td>5</td>\n",
       "      <td>62</td>\n",
       "    </tr>\n",
       "    <tr>\n",
       "      <th>3</th>\n",
       "      <td>12</td>\n",
       "      <td>94000000</td>\n",
       "      <td>Animation|Family</td>\n",
       "      <td>http://movies.disney.com/finding-nemo</td>\n",
       "      <td>Pixar</td>\n",
       "      <td>US</td>\n",
       "      <td>United States of America</td>\n",
       "      <td>940335536.0</td>\n",
       "      <td>100</td>\n",
       "      <td>NaN</td>\n",
       "      <td>...</td>\n",
       "      <td>134.435</td>\n",
       "      <td>2003-05-30</td>\n",
       "      <td>7.8</td>\n",
       "      <td>15928</td>\n",
       "      <td>2</td>\n",
       "      <td>1</td>\n",
       "      <td>1</td>\n",
       "      <td>24</td>\n",
       "      <td>5</td>\n",
       "      <td>18</td>\n",
       "    </tr>\n",
       "    <tr>\n",
       "      <th>4</th>\n",
       "      <td>13</td>\n",
       "      <td>55000000</td>\n",
       "      <td>Comedy|Drama|Romance</td>\n",
       "      <td>NaN</td>\n",
       "      <td>Paramount|The Steve Tisch Company</td>\n",
       "      <td>US|</td>\n",
       "      <td>United States of America</td>\n",
       "      <td>677387716.0</td>\n",
       "      <td>142</td>\n",
       "      <td>False</td>\n",
       "      <td>...</td>\n",
       "      <td>58.751</td>\n",
       "      <td>1994-07-06</td>\n",
       "      <td>8.5</td>\n",
       "      <td>22045</td>\n",
       "      <td>3</td>\n",
       "      <td>2</td>\n",
       "      <td>1</td>\n",
       "      <td>76</td>\n",
       "      <td>18</td>\n",
       "      <td>48</td>\n",
       "    </tr>\n",
       "  </tbody>\n",
       "</table>\n",
       "<p>5 rows × 27 columns</p>\n",
       "</div>"
      ],
      "text/plain": [
       "   id    budget                            genres  \\\n",
       "0   5   4000000                      Crime|Comedy   \n",
       "1   6  21000000             Action|Thriller|Crime   \n",
       "2  11  11000000  Adventure|Action|Science Fiction   \n",
       "3  12  94000000                  Animation|Family   \n",
       "4  13  55000000              Comedy|Drama|Romance   \n",
       "\n",
       "                                            homePage  \\\n",
       "0          https://www.miramax.com/movie/four-rooms/   \n",
       "1                                                NaN   \n",
       "2  http://www.starwars.com/films/star-wars-episod...   \n",
       "3              http://movies.disney.com/finding-nemo   \n",
       "4                                                NaN   \n",
       "\n",
       "                            productionCompany productionCompanyCountry  \\\n",
       "0                        Miramax|A Band Apart                    US|US   \n",
       "1  Universal Pictures|Largo Entertainment|JVC                 US|US|JP   \n",
       "2                  Lucasfilm|20th Century Fox                    US|US   \n",
       "3                                       Pixar                       US   \n",
       "4           Paramount|The Steve Tisch Company                      US|   \n",
       "\n",
       "                productionCountry      revenue  runtime  video  ...  \\\n",
       "0        United States of America    4257354.0       98  False  ...   \n",
       "1  Japan|United States of America   12136938.0      110  False  ...   \n",
       "2        United States of America  775398007.0      121    NaN  ...   \n",
       "3        United States of America  940335536.0      100    NaN  ...   \n",
       "4        United States of America  677387716.0      142  False  ...   \n",
       "\n",
       "  popularity releaseDate voteAvg voteCount genresAmount productionCoAmount  \\\n",
       "0     20.880  1995-12-09     5.7      2077            2                  2   \n",
       "1      9.596  1993-10-15     6.5       223            3                  3   \n",
       "2    100.003  1977-05-25     8.2     16598            3                  2   \n",
       "3    134.435  2003-05-30     7.8     15928            2                  1   \n",
       "4     58.751  1994-07-06     8.5     22045            3                  2   \n",
       "\n",
       "  productionCountriesAmount  actorsAmount castWomenAmount  castMenAmount  \n",
       "0                         1            25              15              9  \n",
       "1                         2            15               3              9  \n",
       "2                         1           105               5             62  \n",
       "3                         1            24               5             18  \n",
       "4                         1            76              18             48  \n",
       "\n",
       "[5 rows x 27 columns]"
      ]
     },
     "execution_count": 7,
     "metadata": {},
     "output_type": "execute_result"
    }
   ],
   "source": [
    "df.head()"
   ]
  },
  {
   "cell_type": "markdown",
   "id": "b59f96a4",
   "metadata": {},
   "source": [
    "## 2. Diga el tipo de cada una de las variables (cualitativa ordinal o nominal, cuantitativa continua, cuantitativa discreta)"
   ]
  },
  {
   "cell_type": "code",
   "execution_count": null,
   "id": "c35eb489",
   "metadata": {},
   "outputs": [],
   "source": []
  },
  {
   "cell_type": "markdown",
   "id": "a75ecbcc",
   "metadata": {},
   "source": [
    "## 3. Investigue si las variables cuantitativas siguen una distribución normal y haga una tabla de frecuencias de las variables cualitativas. Explique todos los resultados."
   ]
  },
  {
   "cell_type": "code",
   "execution_count": null,
   "id": "9702a1b2",
   "metadata": {},
   "outputs": [],
   "source": []
  },
  {
   "cell_type": "markdown",
   "id": "c10aa1d1",
   "metadata": {},
   "source": [
    "## 4. Responda las siguientes preguntas:\n",
    "### 4.1 ¿Cuáles son las 10 películas que contaron con más presupuesto?"
   ]
  },
  {
   "cell_type": "code",
   "execution_count": null,
   "id": "08788df0",
   "metadata": {},
   "outputs": [],
   "source": []
  },
  {
   "cell_type": "markdown",
   "id": "39249d0c",
   "metadata": {},
   "source": [
    "### 4.2 ¿Cuáles son las 10 películas que más ingresos tuvieron? "
   ]
  },
  {
   "cell_type": "code",
   "execution_count": null,
   "id": "e11454a3",
   "metadata": {},
   "outputs": [],
   "source": []
  },
  {
   "cell_type": "markdown",
   "id": "7c2a6194",
   "metadata": {},
   "source": [
    "### 4.3 ¿Cuál es la película que más votos tuvo? "
   ]
  },
  {
   "cell_type": "code",
   "execution_count": null,
   "id": "a17e5eb9",
   "metadata": {},
   "outputs": [],
   "source": []
  },
  {
   "cell_type": "markdown",
   "id": "ffa202e4",
   "metadata": {},
   "source": [
    "### 4.4 ¿Cuál es la peor película de acuerdo a los votos de todos los usuarios? "
   ]
  },
  {
   "cell_type": "code",
   "execution_count": null,
   "id": "1671c161",
   "metadata": {},
   "outputs": [],
   "source": []
  },
  {
   "cell_type": "markdown",
   "id": "ad1b6771",
   "metadata": {},
   "source": [
    "### 4.5 ¿Cuántas  películas  se  hicieron  en  cada  año?  ¿En  qué  año  se  hicieron  más películas? Haga un gráfico de barras"
   ]
  },
  {
   "cell_type": "code",
   "execution_count": null,
   "id": "8bbf47e1",
   "metadata": {},
   "outputs": [],
   "source": []
  },
  {
   "cell_type": "markdown",
   "id": "98ac6a1e",
   "metadata": {},
   "source": [
    "### 4.6 ¿Cuál es el género principal de las 20 películas más recientes? ¿Cuál es el género principal que predomina en el conjunto de datos? Represéntelo usando un gráfico"
   ]
  },
  {
   "cell_type": "code",
   "execution_count": null,
   "id": "ca499df7",
   "metadata": {},
   "outputs": [],
   "source": []
  },
  {
   "cell_type": "markdown",
   "id": "32fe4eca",
   "metadata": {},
   "source": [
    "### 4.7 ¿Las películas de qué género principal obtuvieron mayores ganancias?"
   ]
  },
  {
   "cell_type": "code",
   "execution_count": null,
   "id": "ad3dbac3",
   "metadata": {},
   "outputs": [],
   "source": []
  },
  {
   "cell_type": "markdown",
   "id": "d7a6a162",
   "metadata": {},
   "source": [
    "### 4.8 ¿La cantidad de actores influye en los ingresos de las películas?¿Se han hecho películas con más actores en los últimos años?"
   ]
  },
  {
   "cell_type": "code",
   "execution_count": null,
   "id": "85d6b78e",
   "metadata": {},
   "outputs": [],
   "source": []
  },
  {
   "cell_type": "markdown",
   "id": "d4d5fa1d",
   "metadata": {},
   "source": [
    "### 4.9 ¿Es posible que la cantidad de hombres y mujeres en el  reparto influya en la popularidad y los ingresos de las películas?"
   ]
  },
  {
   "cell_type": "code",
   "execution_count": null,
   "id": "a3cdffec",
   "metadata": {},
   "outputs": [],
   "source": []
  },
  {
   "cell_type": "markdown",
   "id": "77e744f0",
   "metadata": {},
   "source": [
    "### 4.10 ¿Quiénes son los directores que hicieron las 20 películas mejor calificadas?"
   ]
  },
  {
   "cell_type": "code",
   "execution_count": null,
   "id": "ed7c4b13",
   "metadata": {},
   "outputs": [],
   "source": []
  },
  {
   "cell_type": "markdown",
   "id": "5717c23e",
   "metadata": {},
   "source": [
    "### 4.11 ¿Cómo  se  correlacionan  los  presupuestos  con  los  ingresos?  ¿Los  altos presupuestos significan altos ingresos? Haga los gráficos que necesite, histograma, diagrama de dispersión "
   ]
  },
  {
   "cell_type": "code",
   "execution_count": null,
   "id": "bbd3f1a6",
   "metadata": {},
   "outputs": [],
   "source": []
  },
  {
   "cell_type": "markdown",
   "id": "fd533cd5",
   "metadata": {},
   "source": [
    "### 4.12 ¿Se asocian ciertos meses de lanzamiento con mejores ingresos?"
   ]
  },
  {
   "cell_type": "code",
   "execution_count": null,
   "id": "e1476f18",
   "metadata": {},
   "outputs": [],
   "source": []
  },
  {
   "cell_type": "markdown",
   "id": "c1149267",
   "metadata": {},
   "source": [
    "### 4.13 ¿En qué meses se han visto los lanzamientos con mejores ingresos?¿Cuántas películas, en promedio, se han lanzado por mes?"
   ]
  },
  {
   "cell_type": "code",
   "execution_count": null,
   "id": "42707de5",
   "metadata": {},
   "outputs": [],
   "source": []
  },
  {
   "cell_type": "markdown",
   "id": "26a674c5",
   "metadata": {},
   "source": [
    "### 4.14 ¿Cómo se correlacionan las calificaciones con el éxito comercial?"
   ]
  },
  {
   "cell_type": "code",
   "execution_count": null,
   "id": "6ed8d959",
   "metadata": {},
   "outputs": [],
   "source": []
  },
  {
   "cell_type": "markdown",
   "id": "f41c0ad8",
   "metadata": {},
   "source": [
    "### 4.15  ¿A qué género principal pertenecen las películas más largas?"
   ]
  },
  {
   "cell_type": "code",
   "execution_count": null,
   "id": "7fed3afc",
   "metadata": {},
   "outputs": [],
   "source": []
  },
  {
   "cell_type": "markdown",
   "id": "729ee841",
   "metadata": {},
   "source": [
    "## 5. (¡10 puntos extras!) Genere usted otras seis preguntas que le parezcan interesantes porque le permitan realizar otras exploraciones y respóndalas. No puede repetir ninguna de las instrucciones anteriores. "
   ]
  },
  {
   "cell_type": "code",
   "execution_count": null,
   "id": "5df58e23",
   "metadata": {},
   "outputs": [],
   "source": []
  }
 ],
 "metadata": {
  "kernelspec": {
   "display_name": "Python 3 (ipykernel)",
   "language": "python",
   "name": "python3"
  },
  "language_info": {
   "codemirror_mode": {
    "name": "ipython",
    "version": 3
   },
   "file_extension": ".py",
   "mimetype": "text/x-python",
   "name": "python",
   "nbconvert_exporter": "python",
   "pygments_lexer": "ipython3",
   "version": "3.9.5"
  }
 },
 "nbformat": 4,
 "nbformat_minor": 5
}
