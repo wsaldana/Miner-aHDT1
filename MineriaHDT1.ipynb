{
 "cells": [
  {
   "cell_type": "markdown",
   "id": "fb99b436",
   "metadata": {},
   "source": [
    "Universidad del Valle de Guatemala <br>\n",
    "28/01/2022 <br>\n",
    "Minería de Datos # 20 <br>\n",
    "\n",
    "# Hoja de Trabajo 1\n",
    "## Análisis Exploratorio\n",
    "\n",
    "**Integrantes:**<br>\n",
    "Walter Saldaña                                  19897 <br>\n",
    "José Gutierrez                                  19111 <br>\n",
    "Javier Cotto                                    19324 <br>"
   ]
  },
  {
   "cell_type": "code",
   "execution_count": 12,
   "id": "252fe64d",
   "metadata": {},
   "outputs": [],
   "source": [
    "import pandas as pd\n",
    "import matplotlib.pyplot as plt"
   ]
  },
  {
   "cell_type": "markdown",
   "id": "59314250",
   "metadata": {},
   "source": [
    "## 1. Haga una exploración rápida de sus datos, para eso haga un resumen de su conjunto de datos."
   ]
  },
  {
   "cell_type": "code",
   "execution_count": 203,
   "id": "30efa05c",
   "metadata": {},
   "outputs": [],
   "source": [
    "df = pd.read_csv('movies.csv', encoding='unicode_escape')"
   ]
  },
  {
   "cell_type": "code",
   "execution_count": 21,
   "id": "4ea451c9",
   "metadata": {},
   "outputs": [
    {
     "data": {
      "text/html": [
       "<div>\n",
       "<style scoped>\n",
       "    .dataframe tbody tr th:only-of-type {\n",
       "        vertical-align: middle;\n",
       "    }\n",
       "\n",
       "    .dataframe tbody tr th {\n",
       "        vertical-align: top;\n",
       "    }\n",
       "\n",
       "    .dataframe thead th {\n",
       "        text-align: right;\n",
       "    }\n",
       "</style>\n",
       "<table border=\"1\" class=\"dataframe\">\n",
       "  <thead>\n",
       "    <tr style=\"text-align: right;\">\n",
       "      <th></th>\n",
       "      <th>id</th>\n",
       "      <th>budget</th>\n",
       "      <th>genres</th>\n",
       "      <th>homePage</th>\n",
       "      <th>productionCompany</th>\n",
       "      <th>productionCompanyCountry</th>\n",
       "      <th>productionCountry</th>\n",
       "      <th>revenue</th>\n",
       "      <th>runtime</th>\n",
       "      <th>video</th>\n",
       "      <th>director</th>\n",
       "      <th>actors</th>\n",
       "      <th>actorsPopularity</th>\n",
       "      <th>actorsCharacter</th>\n",
       "      <th>originalTitle</th>\n",
       "      <th>title</th>\n",
       "      <th>originalLanguage</th>\n",
       "      <th>popularity</th>\n",
       "      <th>releaseDate</th>\n",
       "      <th>voteAvg</th>\n",
       "      <th>voteCount</th>\n",
       "      <th>genresAmount</th>\n",
       "      <th>productionCoAmount</th>\n",
       "      <th>productionCountriesAmount</th>\n",
       "      <th>actorsAmount</th>\n",
       "      <th>castWomenAmount</th>\n",
       "      <th>castMenAmount</th>\n",
       "    </tr>\n",
       "  </thead>\n",
       "  <tbody>\n",
       "    <tr>\n",
       "      <th>0</th>\n",
       "      <td>5</td>\n",
       "      <td>4000000</td>\n",
       "      <td>Crime|Comedy</td>\n",
       "      <td>https://www.miramax.com/movie/four-rooms/</td>\n",
       "      <td>Miramax|A Band Apart</td>\n",
       "      <td>US|US</td>\n",
       "      <td>United States of America</td>\n",
       "      <td>4257354.0</td>\n",
       "      <td>98</td>\n",
       "      <td>False</td>\n",
       "      <td>Allison Anders|Alexandre Rockwell|Robert Rodri...</td>\n",
       "      <td>Tim Roth|Jennifer Beals|Antonio Banderas|Valer...</td>\n",
       "      <td>22.225|23.519|17.816|19.893|9.027|7.147|7.769|...</td>\n",
       "      <td>Ted the Bellhop|Angela|Man|Athena|Siegfried|Je...</td>\n",
       "      <td>Four Rooms</td>\n",
       "      <td>Four Rooms</td>\n",
       "      <td>en</td>\n",
       "      <td>20.880</td>\n",
       "      <td>1995-12-09</td>\n",
       "      <td>5.7</td>\n",
       "      <td>2077</td>\n",
       "      <td>2</td>\n",
       "      <td>2</td>\n",
       "      <td>1</td>\n",
       "      <td>25</td>\n",
       "      <td>15</td>\n",
       "      <td>9</td>\n",
       "    </tr>\n",
       "    <tr>\n",
       "      <th>1</th>\n",
       "      <td>6</td>\n",
       "      <td>21000000</td>\n",
       "      <td>Action|Thriller|Crime</td>\n",
       "      <td>NaN</td>\n",
       "      <td>Universal Pictures|Largo Entertainment|JVC</td>\n",
       "      <td>US|US|JP</td>\n",
       "      <td>Japan|United States of America</td>\n",
       "      <td>12136938.0</td>\n",
       "      <td>110</td>\n",
       "      <td>False</td>\n",
       "      <td>Stephen Hopkins</td>\n",
       "      <td>Emilio Estevez|Cuba Gooding Jr.|Denis Leary|St...</td>\n",
       "      <td>9.008|6.383|10.757|18.295|11.772|14.777|9.669|...</td>\n",
       "      <td>Frank Wyatt|Mike Peterson|Fallon|John Wyatt|Ra...</td>\n",
       "      <td>Judgment Night</td>\n",
       "      <td>Judgment Night</td>\n",
       "      <td>en</td>\n",
       "      <td>9.596</td>\n",
       "      <td>1993-10-15</td>\n",
       "      <td>6.5</td>\n",
       "      <td>223</td>\n",
       "      <td>3</td>\n",
       "      <td>3</td>\n",
       "      <td>2</td>\n",
       "      <td>15</td>\n",
       "      <td>3</td>\n",
       "      <td>9</td>\n",
       "    </tr>\n",
       "    <tr>\n",
       "      <th>2</th>\n",
       "      <td>11</td>\n",
       "      <td>11000000</td>\n",
       "      <td>Adventure|Action|Science Fiction</td>\n",
       "      <td>http://www.starwars.com/films/star-wars-episod...</td>\n",
       "      <td>Lucasfilm|20th Century Fox</td>\n",
       "      <td>US|US</td>\n",
       "      <td>United States of America</td>\n",
       "      <td>775398007.0</td>\n",
       "      <td>121</td>\n",
       "      <td>NaN</td>\n",
       "      <td>George Lucas</td>\n",
       "      <td>FALSE</td>\n",
       "      <td>11.881|24.542|14.434|10.651|6.888|5.811|1.432|...</td>\n",
       "      <td>Luke Skywalker|Han Solo|Princess Leia Organa|G...</td>\n",
       "      <td>Star Wars</td>\n",
       "      <td>Star Wars</td>\n",
       "      <td>en</td>\n",
       "      <td>100.003</td>\n",
       "      <td>1977-05-25</td>\n",
       "      <td>8.2</td>\n",
       "      <td>16598</td>\n",
       "      <td>3</td>\n",
       "      <td>2</td>\n",
       "      <td>1</td>\n",
       "      <td>105</td>\n",
       "      <td>5</td>\n",
       "      <td>62</td>\n",
       "    </tr>\n",
       "    <tr>\n",
       "      <th>3</th>\n",
       "      <td>12</td>\n",
       "      <td>94000000</td>\n",
       "      <td>Animation|Family</td>\n",
       "      <td>http://movies.disney.com/finding-nemo</td>\n",
       "      <td>Pixar</td>\n",
       "      <td>US</td>\n",
       "      <td>United States of America</td>\n",
       "      <td>940335536.0</td>\n",
       "      <td>100</td>\n",
       "      <td>NaN</td>\n",
       "      <td>Andrew Stanton</td>\n",
       "      <td>FALSE</td>\n",
       "      <td>9.79|8.084|8.538|33.379|11.733|11.866|8.141|12...</td>\n",
       "      <td>Marlin (voice)|Dory (voice)|Nemo (voice)|Gill ...</td>\n",
       "      <td>Finding Nemo</td>\n",
       "      <td>Finding Nemo</td>\n",
       "      <td>en</td>\n",
       "      <td>134.435</td>\n",
       "      <td>2003-05-30</td>\n",
       "      <td>7.8</td>\n",
       "      <td>15928</td>\n",
       "      <td>2</td>\n",
       "      <td>1</td>\n",
       "      <td>1</td>\n",
       "      <td>24</td>\n",
       "      <td>5</td>\n",
       "      <td>18</td>\n",
       "    </tr>\n",
       "    <tr>\n",
       "      <th>4</th>\n",
       "      <td>13</td>\n",
       "      <td>55000000</td>\n",
       "      <td>Comedy|Drama|Romance</td>\n",
       "      <td>NaN</td>\n",
       "      <td>Paramount|The Steve Tisch Company</td>\n",
       "      <td>US|</td>\n",
       "      <td>United States of America</td>\n",
       "      <td>677387716.0</td>\n",
       "      <td>142</td>\n",
       "      <td>False</td>\n",
       "      <td>Robert Zemeckis</td>\n",
       "      <td>Tom Hanks|Robin Wright|Gary Sinise|Mykelti Wil...</td>\n",
       "      <td>33.297|13.246|6.748|6.402|13.189|10.974|10.259...</td>\n",
       "      <td>Forrest Gump|Jenny Curran|Dan Taylor|Bubba|Mrs...</td>\n",
       "      <td>Forrest Gump</td>\n",
       "      <td>Forrest Gump</td>\n",
       "      <td>en</td>\n",
       "      <td>58.751</td>\n",
       "      <td>1994-07-06</td>\n",
       "      <td>8.5</td>\n",
       "      <td>22045</td>\n",
       "      <td>3</td>\n",
       "      <td>2</td>\n",
       "      <td>1</td>\n",
       "      <td>76</td>\n",
       "      <td>18</td>\n",
       "      <td>48</td>\n",
       "    </tr>\n",
       "  </tbody>\n",
       "</table>\n",
       "</div>"
      ],
      "text/plain": [
       "   id    budget                            genres  \\\n",
       "0   5   4000000                      Crime|Comedy   \n",
       "1   6  21000000             Action|Thriller|Crime   \n",
       "2  11  11000000  Adventure|Action|Science Fiction   \n",
       "3  12  94000000                  Animation|Family   \n",
       "4  13  55000000              Comedy|Drama|Romance   \n",
       "\n",
       "                                            homePage  \\\n",
       "0          https://www.miramax.com/movie/four-rooms/   \n",
       "1                                                NaN   \n",
       "2  http://www.starwars.com/films/star-wars-episod...   \n",
       "3              http://movies.disney.com/finding-nemo   \n",
       "4                                                NaN   \n",
       "\n",
       "                            productionCompany productionCompanyCountry  \\\n",
       "0                        Miramax|A Band Apart                    US|US   \n",
       "1  Universal Pictures|Largo Entertainment|JVC                 US|US|JP   \n",
       "2                  Lucasfilm|20th Century Fox                    US|US   \n",
       "3                                       Pixar                       US   \n",
       "4           Paramount|The Steve Tisch Company                      US|   \n",
       "\n",
       "                productionCountry      revenue  runtime  video  \\\n",
       "0        United States of America    4257354.0       98  False   \n",
       "1  Japan|United States of America   12136938.0      110  False   \n",
       "2        United States of America  775398007.0      121    NaN   \n",
       "3        United States of America  940335536.0      100    NaN   \n",
       "4        United States of America  677387716.0      142  False   \n",
       "\n",
       "                                            director  \\\n",
       "0  Allison Anders|Alexandre Rockwell|Robert Rodri...   \n",
       "1                                    Stephen Hopkins   \n",
       "2                                       George Lucas   \n",
       "3                                     Andrew Stanton   \n",
       "4                                    Robert Zemeckis   \n",
       "\n",
       "                                              actors  \\\n",
       "0  Tim Roth|Jennifer Beals|Antonio Banderas|Valer...   \n",
       "1  Emilio Estevez|Cuba Gooding Jr.|Denis Leary|St...   \n",
       "2                                              FALSE   \n",
       "3                                              FALSE   \n",
       "4  Tom Hanks|Robin Wright|Gary Sinise|Mykelti Wil...   \n",
       "\n",
       "                                    actorsPopularity  \\\n",
       "0  22.225|23.519|17.816|19.893|9.027|7.147|7.769|...   \n",
       "1  9.008|6.383|10.757|18.295|11.772|14.777|9.669|...   \n",
       "2  11.881|24.542|14.434|10.651|6.888|5.811|1.432|...   \n",
       "3  9.79|8.084|8.538|33.379|11.733|11.866|8.141|12...   \n",
       "4  33.297|13.246|6.748|6.402|13.189|10.974|10.259...   \n",
       "\n",
       "                                     actorsCharacter   originalTitle  \\\n",
       "0  Ted the Bellhop|Angela|Man|Athena|Siegfried|Je...      Four Rooms   \n",
       "1  Frank Wyatt|Mike Peterson|Fallon|John Wyatt|Ra...  Judgment Night   \n",
       "2  Luke Skywalker|Han Solo|Princess Leia Organa|G...       Star Wars   \n",
       "3  Marlin (voice)|Dory (voice)|Nemo (voice)|Gill ...    Finding Nemo   \n",
       "4  Forrest Gump|Jenny Curran|Dan Taylor|Bubba|Mrs...    Forrest Gump   \n",
       "\n",
       "            title originalLanguage  popularity releaseDate  voteAvg  \\\n",
       "0      Four Rooms               en      20.880  1995-12-09      5.7   \n",
       "1  Judgment Night               en       9.596  1993-10-15      6.5   \n",
       "2       Star Wars               en     100.003  1977-05-25      8.2   \n",
       "3    Finding Nemo               en     134.435  2003-05-30      7.8   \n",
       "4    Forrest Gump               en      58.751  1994-07-06      8.5   \n",
       "\n",
       "   voteCount  genresAmount  productionCoAmount  productionCountriesAmount  \\\n",
       "0       2077             2                   2                          1   \n",
       "1        223             3                   3                          2   \n",
       "2      16598             3                   2                          1   \n",
       "3      15928             2                   1                          1   \n",
       "4      22045             3                   2                          1   \n",
       "\n",
       "   actorsAmount castWomenAmount castMenAmount  \n",
       "0            25              15             9  \n",
       "1            15               3             9  \n",
       "2           105               5            62  \n",
       "3            24               5            18  \n",
       "4            76              18            48  "
      ]
     },
     "execution_count": 21,
     "metadata": {},
     "output_type": "execute_result"
    }
   ],
   "source": [
    "pd.set_option('display.max_columns', None)\n",
    "df.head()"
   ]
  },
  {
   "cell_type": "markdown",
   "id": "b59f96a4",
   "metadata": {},
   "source": [
    "## 2. Diga el tipo de cada una de las variables (cualitativa ordinal o nominal, cuantitativa continua, cuantitativa discreta)"
   ]
  },
  {
   "cell_type": "code",
   "execution_count": 265,
   "id": "c35eb489",
   "metadata": {},
   "outputs": [],
   "source": [
    "# Id             -> Cualitativa ordinal\n",
    "# Popularity     -> Cuantitativa continua\n",
    "# Budget         -> Cuantitativa discreta\n",
    "# Revenue        -> Cuantitativa continua\n",
    "# Original_title -> Cualitativa nominal\n",
    "# Original_language   -> Cualitativa nominal\n",
    "# Title          -> Cualitativa nominal\n",
    "# Home_Page      -> Cualitativa nominal\n",
    "# Video          -> Cualitativa nominal\n",
    "# Director       -> Cualitativa nominal\n",
    "# Runtime        -> Cuantitativa discreta\n",
    "# Genres         -> Cualitativa nominal\n",
    "# Genres_Amount         -> Cualitativa nominal\n",
    "# ProductionCompany     -> Cualitativa nominal\n",
    "# Production_coCompany  -> Cualitativa nominal\n",
    "# Production_Company_Country  -> Cualitativa nominal\n",
    "# Production_Country          -> Cualitativa nominal\n",
    "# Production_Countries_Amount -> Cualitativa nominal\n",
    "# Release_Date          -> Cualitativa nominal\n",
    "# Vote_Count            -> Cuantitativa discreta\n",
    "# Vote_AVG              -> Cuantitativa continua\n",
    "# Actors                -> Cualitativa nominal\n",
    "# Actors_Popularity     -> Cuantitativa continua\n",
    "# Actors_Character      -> Cualitativa nominal\n",
    "# Actors_Amount         -> Cuantitativa continua\n",
    "# Cast_Women_Amount     -> Cuantitativa continua\n",
    "# Cast_Men_Amount       -> Cuantitativa continua\n",
    "\n"
   ]
  },
  {
   "cell_type": "markdown",
   "id": "a75ecbcc",
   "metadata": {},
   "source": [
    "## 3. Investigue si las variables cuantitativas siguen una distribución normal y haga una tabla de frecuencias de las variables cualitativas. Explique todos los resultados."
   ]
  },
  {
   "cell_type": "code",
   "execution_count": null,
   "id": "9702a1b2",
   "metadata": {},
   "outputs": [],
   "source": []
  },
  {
   "cell_type": "markdown",
   "id": "c10aa1d1",
   "metadata": {},
   "source": [
    "## 4. Responda las siguientes preguntas:\n",
    "### 4.1 ¿Cuáles son las 10 películas que contaron con más presupuesto?"
   ]
  },
  {
   "cell_type": "code",
   "execution_count": 258,
   "id": "08788df0",
   "metadata": {},
   "outputs": [
    {
     "data": {
      "image/png": "[encoded data removed]",
      "text/plain": [
       "<Figure size 2880x576 with 1 Axes>"
      ]
     },
     "metadata": {
      "needs_background": "light"
     },
     "output_type": "display_data"
    },
    {
     "name": "stdout",
     "output_type": "stream",
     "text": [
      "                                            title     budget\n",
      "716   Pirates of the Caribbean: On Stranger Tides  380000000\n",
      "4710                      Avengers: Age of Ultron  365000000\n",
      "5952                            Avengers: Endgame  356000000\n",
      "4953                               Justice League  300000000\n",
      "5953                       Avengers: Infinity War  300000000\n",
      "163      Pirates of the Caribbean: At World's End  300000000\n",
      "607                              Superman Returns  270000000\n",
      "7134                                The Lion King  260000000\n",
      "3791                                      Tangled  260000000\n",
      "280                                  Spider-Man 3  258000000\n"
     ]
    }
   ],
   "source": [
    "df1 = df.sort_values(by=['budget'], ascending=False).head(10)\n",
    "\n",
    "peliculas = df1['originalTitle']\n",
    "presupuesto = df1['budget']\n",
    "\n",
    "plt.figure(figsize=(40,8))\n",
    "\n",
    "plt.bar(peliculas, presupuesto)\n",
    "plt.title('10 películas que contaron con más presupuesto')\n",
    "plt.xlabel('Pelicula')\n",
    "plt.ylabel('Presupuesto')\n",
    "plt.show()\n",
    "\n",
    "print(df1.iloc[:, [15,1]])  \n"
   ]
  },
  {
   "cell_type": "markdown",
   "id": "39249d0c",
   "metadata": {},
   "source": [
    "### 4.2 ¿Cuáles son las 10 películas que más ingresos tuvieron? "
   ]
  },
  {
   "cell_type": "code",
   "execution_count": 85,
   "id": "e11454a3",
   "metadata": {},
   "outputs": [
    {
     "name": "stdout",
     "output_type": "stream",
     "text": [
      "                        title       revenue\n",
      "3511                Inception  8.255328e+08\n",
      "5027             Interstellar  7.017292e+08\n",
      "87            The Dark Knight  1.004558e+09\n",
      "3397             The Avengers  1.518816e+09\n",
      "5889                 Deadpool  7.831000e+08\n",
      "3210                   Avatar  2.847246e+09\n",
      "4825  Guardians of the Galaxy  7.727766e+08\n",
      "5953   Avengers: Infinity War  2.046240e+09\n",
      "275                Fight Club  1.008538e+08\n",
      "374              Pulp Fiction  2.141791e+08\n"
     ]
    }
   ],
   "source": [
    "df1 = df.sort_values(by=['voteCount'], ascending=False).head(10)\n",
    "\n",
    "print(df1.iloc[:, [15,7]])"
   ]
  },
  {
   "cell_type": "markdown",
   "id": "7c2a6194",
   "metadata": {},
   "source": [
    "### 4.3 ¿Cuál es la película que más votos tuvo? "
   ]
  },
  {
   "cell_type": "code",
   "execution_count": 87,
   "id": "a17e5eb9",
   "metadata": {},
   "outputs": [
    {
     "name": "stdout",
     "output_type": "stream",
     "text": [
      "          title  voteCount\n",
      "3511  Inception      30788\n"
     ]
    }
   ],
   "source": [
    "df1 = df.sort_values(by=['voteCount'], ascending=False).head(1)\n",
    "\n",
    "print(df1.iloc[:, [15,20]])"
   ]
  },
  {
   "cell_type": "markdown",
   "id": "ffa202e4",
   "metadata": {},
   "source": [
    "### 4.4 ¿Cuál es la peor película de acuerdo a los votos de todos los usuarios? "
   ]
  },
  {
   "cell_type": "code",
   "execution_count": 88,
   "id": "1671c161",
   "metadata": {},
   "outputs": [
    {
     "name": "stdout",
     "output_type": "stream",
     "text": [
      "                                                  title  voteAvg\n",
      "9786  DAKAICHI -I'm Being Harassed by the Sexiest Ma...      1.3\n"
     ]
    }
   ],
   "source": [
    "df1 = df.sort_values(by=['voteAvg']).head(1)\n",
    "\n",
    "print(df1.iloc[:, [15,19]])"
   ]
  },
  {
   "cell_type": "markdown",
   "id": "ad1b6771",
   "metadata": {},
   "source": [
    "### 4.5 ¿Cuántas  películas  se  hicieron  en  cada  año?  ¿En  qué  año  se  hicieron  más películas? Haga un gráfico de barras"
   ]
  },
  {
   "cell_type": "code",
   "execution_count": 259,
   "id": "8bbf47e1",
   "metadata": {
    "scrolled": true
   },
   "outputs": [
    {
     "data": {
      "image/png": "[encoded data removed]",
      "text/plain": [
       "<Figure size 3600x576 with 1 Axes>"
      ]
     },
     "metadata": {
      "needs_background": "light"
     },
     "output_type": "display_data"
    },
    {
     "name": "stdout",
     "output_type": "stream",
     "text": [
      "Se hicieron mas peliculas en el año 2021 con 816 peliculas hechas.\n"
     ]
    }
   ],
   "source": [
    "df1 = pd.DatetimeIndex(df['releaseDate']).year\n",
    "df2 = df1.value_counts().sort_values(ascending=False).reset_index()\n",
    "df3 = df2.rename(columns={\"index\": \"Year\", \"releaseDate\": \"Count\"})\n",
    "df3 = df3.astype({\"Year\": str})\n",
    "\n",
    "colors = []\n",
    "g = 200\n",
    "\n",
    "for i in range(0, 99):\n",
    "    colors.append([1, (g-i*2)/255, 0, 1])\n",
    "\n",
    "plt.figure(figsize=(50,8))\n",
    "plt.bar(df3['Year'], df3['Count'], color=colors)\n",
    "plt.title('Total de peliculas hechas por año')\n",
    "plt.xlabel('Año')\n",
    "plt.ylabel('No. de peliculas')\n",
    "plt.show()\n",
    "\n",
    "print('Se hicieron mas peliculas en el año 2021 con 816 peliculas hechas.')\n",
    "\n",
    "\n",
    "\n"
   ]
  },
  {
   "cell_type": "markdown",
   "id": "98ac6a1e",
   "metadata": {},
   "source": [
    "### 4.6 ¿Cuál es el género principal de las 20 películas más recientes? ¿Cuál es el género principal que predomina en el conjunto de datos? Represéntelo usando un gráfico"
   ]
  },
  {
   "cell_type": "code",
   "execution_count": null,
   "id": "ca499df7",
   "metadata": {},
   "outputs": [],
   "source": []
  },
  {
   "cell_type": "markdown",
   "id": "32fe4eca",
   "metadata": {},
   "source": [
    "### 4.7 ¿Las películas de qué género principal obtuvieron mayores ganancias?"
   ]
  },
  {
   "cell_type": "code",
   "execution_count": null,
   "id": "ad3dbac3",
   "metadata": {},
   "outputs": [],
   "source": []
  },
  {
   "cell_type": "markdown",
   "id": "d7a6a162",
   "metadata": {},
   "source": [
    "### 4.8 ¿La cantidad de actores influye en los ingresos de las películas?¿Se han hecho películas con más actores en los últimos años?"
   ]
  },
  {
   "cell_type": "code",
   "execution_count": null,
   "id": "85d6b78e",
   "metadata": {},
   "outputs": [],
   "source": []
  },
  {
   "cell_type": "markdown",
   "id": "d4d5fa1d",
   "metadata": {},
   "source": [
    "### 4.9 ¿Es posible que la cantidad de hombres y mujeres en el  reparto influya en la popularidad y los ingresos de las películas?"
   ]
  },
  {
   "cell_type": "code",
   "execution_count": null,
   "id": "a3cdffec",
   "metadata": {},
   "outputs": [],
   "source": []
  },
  {
   "cell_type": "markdown",
   "id": "77e744f0",
   "metadata": {},
   "source": [
    "### 4.10 ¿Quiénes son los directores que hicieron las 20 películas mejor calificadas?"
   ]
  },
  {
   "cell_type": "code",
   "execution_count": null,
   "id": "ed7c4b13",
   "metadata": {},
   "outputs": [],
   "source": []
  },
  {
   "cell_type": "markdown",
   "id": "5717c23e",
   "metadata": {},
   "source": [
    "### 4.11 ¿Cómo  se  correlacionan  los  presupuestos  con  los  ingresos?  ¿Los  altos presupuestos significan altos ingresos? Haga los gráficos que necesite, histograma, diagrama de dispersión "
   ]
  },
  {
   "cell_type": "code",
   "execution_count": null,
   "id": "bbd3f1a6",
   "metadata": {},
   "outputs": [],
   "source": []
  },
  {
   "cell_type": "markdown",
   "id": "fd533cd5",
   "metadata": {},
   "source": [
    "### 4.12 ¿Se asocian ciertos meses de lanzamiento con mejores ingresos?"
   ]
  },
  {
   "cell_type": "code",
   "execution_count": null,
   "id": "e1476f18",
   "metadata": {},
   "outputs": [],
   "source": []
  },
  {
   "cell_type": "markdown",
   "id": "c1149267",
   "metadata": {},
   "source": [
    "### 4.13 ¿En qué meses se han visto los lanzamientos con mejores ingresos?¿Cuántas películas, en promedio, se han lanzado por mes?"
   ]
  },
  {
   "cell_type": "code",
   "execution_count": null,
   "id": "42707de5",
   "metadata": {},
   "outputs": [],
   "source": []
  },
  {
   "cell_type": "markdown",
   "id": "26a674c5",
   "metadata": {},
   "source": [
    "### 4.14 ¿Cómo se correlacionan las calificaciones con el éxito comercial?"
   ]
  },
  {
   "cell_type": "code",
   "execution_count": null,
   "id": "6ed8d959",
   "metadata": {},
   "outputs": [],
   "source": []
  },
  {
   "cell_type": "markdown",
   "id": "f41c0ad8",
   "metadata": {},
   "source": [
    "### 4.15  ¿A qué género principal pertenecen las películas más largas?"
   ]
  },
  {
   "cell_type": "code",
   "execution_count": null,
   "id": "7fed3afc",
   "metadata": {},
   "outputs": [],
   "source": []
  },
  {
   "cell_type": "markdown",
   "id": "729ee841",
   "metadata": {},
   "source": [
    "## 5. (¡10 puntos extras!) Genere usted otras seis preguntas que le parezcan interesantes porque le permitan realizar otras exploraciones y respóndalas. No puede repetir ninguna de las instrucciones anteriores. "
   ]
  },
  {
   "cell_type": "code",
   "execution_count": null,
   "id": "5df58e23",
   "metadata": {},
   "outputs": [],
   "source": []
  }
 ],
 "metadata": {
  "kernelspec": {
   "display_name": "Python 3 (ipykernel)",
   "language": "python",
   "name": "python3"
  },
  "language_info": {
   "codemirror_mode": {
    "name": "ipython",
    "version": 3
   },
   "file_extension": ".py",
   "mimetype": "text/x-python",
   "name": "python",
   "nbconvert_exporter": "python",
   "pygments_lexer": "ipython3",
   "version": "3.9.7"
  }
 },
 "nbformat": 4,
 "nbformat_minor": 5
}
