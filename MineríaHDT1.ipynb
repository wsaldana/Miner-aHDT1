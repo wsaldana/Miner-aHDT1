{
  "nbformat": 4,
  "nbformat_minor": 0,
  "metadata": {
    "colab": {
      "name": "MineríaHDT1.ipynb",
      "provenance": [],
      "authorship_tag": "ABX9TyNB/zZ8WfY1QjfzSylkUURV",
      "include_colab_link": true
    },
    "kernelspec": {
      "name": "python3",
      "display_name": "Python 3"
    },
    "language_info": {
      "name": "python"
    }
  },
  "cells": [
    {
      "cell_type": "markdown",
      "metadata": {
        "id": "view-in-github",
        "colab_type": "text"
      },
      "source": [
        "<a href=\"https://colab.research.google.com/github/wsaldana/Miner-aHDT1/blob/main/Miner%C3%ADaHDT1.ipynb\" target=\"_parent\"><img src=\"https://colab.research.google.com/assets/colab-badge.svg\" alt=\"Open In Colab\"/></a>"
      ]
    },
    {
      "cell_type": "code",
      "execution_count": null,
      "metadata": {
        "id": "RiICmGKcKxcr"
      },
      "outputs": [],
      "source": [
        ""
      ]
    }
  ]
}