{
  "nbformat": 4,
  "nbformat_minor": 0,
  "metadata": {
    "colab": {
      "name": "MineríaHDT1.ipynb",
      "provenance": [],
      "collapsed_sections": [],
      "include_colab_link": true
    },
    "kernelspec": {
      "name": "python3",
      "display_name": "Python 3"
    },
    "language_info": {
      "name": "python"
    }
  },
  "cells": [
    {
      "cell_type": "markdown",
      "metadata": {
        "id": "view-in-github",
        "colab_type": "text"
      },
      "source": [
        "<a href=\"https://colab.research.google.com/github/wsaldana/Miner-aHDT1/blob/main/Miner%C3%ADaHDT1.ipynb\" target=\"_parent\"><img src=\"https://colab.research.google.com/assets/colab-badge.svg\" alt=\"Open In Colab\"/></a>"
      ]
    },
    {
      "cell_type": "code",
      "execution_count": null,
      "metadata": {
        "colab": {
          "base_uri": "https://localhost:8080/"
        },
        "id": "RiICmGKcKxcr",
        "outputId": "fa97316b-34d5-4b4e-b5ab-4cc27752608c"
      },
      "outputs": [
        {
          "output_type": "stream",
          "name": "stdout",
          "text": [
            "Hello world\n"
          ]
        }
      ],
      "source": [
        "print(\"Hello My world\")"
      ]
    },
    {
      "cell_type": "markdown",
      "source": [
        "Este commit es mio"
      ],
      "metadata": {
        "id": "sF59IvlMMTpg"
      }
    },
    {
      "cell_type": "code",
      "source": [
        "Hola:)"
      ],
      "metadata": {
        "id": "vdr-87WTLrtI",
        "outputId": "896e66e9-5c78-43ec-aa9a-c137051f0f69",
        "colab": {
          "base_uri": "https://localhost:8080/"
        }
      },
      "execution_count": 1,
      "outputs": [
        {
          "output_type": "stream",
          "name": "stdout",
          "text": [
            "Object `estamos` not found.\n"
          ]
        }
      ]
    }
  ]
}